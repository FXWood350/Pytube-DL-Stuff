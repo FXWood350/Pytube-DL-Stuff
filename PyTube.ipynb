{
 "cells": [
  {
   "cell_type": "markdown",
   "metadata": {},
   "source": [
    "# Dodgy Downloader\n"
   ]
  },
  {
   "cell_type": "code",
   "execution_count": 1,
   "metadata": {},
   "outputs": [],
   "source": [
    "from pytube import YouTube\n",
    "from pandas import DataFrame"
   ]
  },
  {
   "cell_type": "code",
   "execution_count": 2,
   "metadata": {},
   "outputs": [
    {
     "name": "stdin",
     "output_type": "stream",
     "text": [
      "Please input the link:  https://www.youtube.com/watch?v=O7hgjuFfn3A\n"
     ]
    }
   ],
   "source": [
    "\n",
    "link = input(\"Please input the link: \")\n",
    "yt = YouTube(link)"
   ]
  },
  {
   "cell_type": "code",
   "execution_count": null,
   "metadata": {},
   "outputs": [],
   "source": [
    "#InfoCell\n",
    "print(\"Title: \",yt.title)\n",
    "\n",
    "print(\"Number of views: \",yt.views)\n",
    "\n",
    "print(\"Length of video: \",yt.length,\"seconds\")\n",
    "\n"
   ]
  },
  {
   "cell_type": "code",
   "execution_count": 3,
   "metadata": {},
   "outputs": [
    {
     "name": "stdin",
     "output_type": "stream",
     "text": [
      "Both 60 and 30 frames avail, please select one to keep: [30/60/None] 60\n"
     ]
    },
    {
     "name": "stdout",
     "output_type": "stream",
     "text": [
      "Stream has been filtered.\n"
     ]
    },
    {
     "name": "stdin",
     "output_type": "stream",
     "text": [
      "Available resolutions are: {'720p', '1080p', '1440p'} , please select desired resolution or None:  1440\n"
     ]
    },
    {
     "name": "stdout",
     "output_type": "stream",
     "text": [
      "         itag                    type          res          fps  \\\n",
      "0  itag=\"308\"  mime_type=\"video/webm\"  res=\"1440p\"  fps=\"60fps\"   \n",
      "1  itag=\"400\"   mime_type=\"video/mp4\"  res=\"1440p\"  fps=\"60fps\"   \n",
      "\n",
      "                   vcodec          progressive  \n",
      "0            vcodec=\"vp9\"  progressive=\"False\"  \n",
      "1  vcodec=\"av01.0.12M.08\"  progressive=\"False\"  \n"
     ]
    }
   ],
   "source": [
    "#VidStreams\n",
    "vid_stream = yt.streams.filter(only_video=True)\n",
    "\n",
    "vid_stream = [str(x) for x in vid_stream if True]\n",
    "    \n",
    "vid_stream = [x.split(\" \")for x in vid_stream if True]\n",
    "youtube_dframe = DataFrame(vid_stream)\n",
    "del youtube_dframe[0]\n",
    "youtube_dframe.columns = [\"itag\",\"type\",\"res\",\"fps\",\"vcodec\",\"progressive\",\"vid/aud\"]\n",
    "youtube_dframe.pop(\"vid/aud\")\n",
    "\n",
    "\n",
    "if ('fps=\"60fps\"' in youtube_dframe[\"fps\"].tolist()) and ('fps=\"30fps\"' in youtube_dframe[\"fps\"].tolist()):\n",
    "    fps_select= input(\"Both 60 and 30 frames avail, please select one to keep: [30/60/None]\")\n",
    "    if fps_select == \"30\" or fps_select == \"60\":\n",
    "        youtube_dframe = youtube_dframe[youtube_dframe.fps.str.contains(fps_select)]\n",
    "        print(\"Stream has been filtered.\")\n",
    "    else:\n",
    "        print(\"Nothing filtered.\")\n",
    "\n",
    "\n",
    "res_list = youtube_dframe[\"res\"].tolist()\n",
    "if not all(x == res_list[0] for x in res_list):\n",
    "    res_list = set([x.translate({ord(i): None for i in 'res=\"'}) for x in res_list if True])\n",
    "    res_select = input(\"Available resolutions are: \" + str(res_list) + \" , please select desired resolution or None: \")\n",
    "    if not res_select.upper() == \"NONE\":\n",
    "        youtube_dframe = youtube_dframe[youtube_dframe.res.str.contains(res_select)]\n",
    "    \n",
    "        \n",
    "print(youtube_dframe)\n",
    "\n",
    "video_itag = input(\"Please input itag of desired video stream: \")"
   ]
  },
  {
   "cell_type": "code",
   "execution_count": 6,
   "metadata": {},
   "outputs": [
    {
     "name": "stdout",
     "output_type": "stream",
     "text": [
      "            1              3                   4\n",
      "0  itag=\"140\"  abr=\"128kbps\"  acodec=\"mp4a.40.2\"\n",
      "1  itag=\"249\"   abr=\"50kbps\"       acodec=\"opus\"\n",
      "2  itag=\"250\"   abr=\"70kbps\"       acodec=\"opus\"\n",
      "3  itag=\"251\"  abr=\"160kbps\"       acodec=\"opus\"\n"
     ]
    }
   ],
   "source": [
    "#AudioStreams\n",
    "unfilt_stream_audio = yt.streams.filter(only_audio=True)\n",
    "filt_stream_audio = unfilt_stream_audio\n",
    "\n",
    "filt_stream_audio = [str(x) for x in filt_stream_audio]\n",
    "filt_stream_audio = [x.split(\" \") for x in filt_stream_audio]\n",
    "\n",
    "youtube_dframe_audio = DataFrame(filt_stream_audio)\n",
    "del youtube_dframe_audio[0]\n",
    "del youtube_dframe_audio[2]\n",
    "del youtube_dframe_audio[5]\n",
    "del youtube_dframe_audio[6]\n",
    "print(youtube_dframe_audio)\n",
    "\n",
    "audio_itag = input(\"Please input itag of desired audio stream: \")"
   ]
  },
  {
   "cell_type": "code",
   "execution_count": 7,
   "metadata": {},
   "outputs": [
    {
     "name": "stdout",
     "output_type": "stream",
     "text": [
      "[Stream: itag=\"18\" mime_type=\"video/mp4\" res=\"360p\" fps=\"30fps\" vcodec=\"avc1.42001E\" acodec=\"mp4a.40.2\" progressive=\"True\" type=\"video\"\n",
      "\n",
      "Stream: itag=\"22\" mime_type=\"video/mp4\" res=\"720p\" fps=\"30fps\" vcodec=\"avc1.64001F\" acodec=\"mp4a.40.2\" progressive=\"True\" type=\"video\">]\n",
      "\n"
     ]
    }
   ],
   "source": [
    "#Combined Download\n",
    "unfilt_stream = str(yt.streams.filter(progressive=True))\n",
    "filt_stream = unfilt_stream.split(\">, <\")\n",
    "for x in range(0,len(filt_stream)):\n",
    "    filt_stream[x] = filt_stream[x].replace(\"<\",\"\")\n",
    "for x in range(0,len(filt_stream)):\n",
    "    print(filt_stream[x] + \"\\n\")\n",
    "    \n",
    "comb_itag = input(\"Please input itag of desired video: \")"
   ]
  },
  {
   "cell_type": "code",
   "execution_count": null,
   "metadata": {},
   "outputs": [],
   "source": [
    "if video_itag in globals()\n",
    "    video_itag = int(video_itag.translate({ord(i): None for i in 'itag=\"'}))\n",
    "    desired_vid = yt.streams.get_by_itag(video_itag)\n",
    "    desired_vid.download()\n",
    "    \n",
    "if audio_itag in globals():\n",
    "    audio_itag = int(audio_itag.translate({ord(i): None for i in 'itag=\"'}))\n",
    "    desired_aud = yt.streams.get_by_itag(audio_itag)\n",
    "    desired_aud.download()\n",
    "     \n",
    "if comb_itag in globals():\n",
    "    comb_itag = int(comb_itag.translate({ord(i): None for i in 'itag=\"'}))\n",
    "    comb_dl = yt.streams.get_by_itag(comb_itag)\n",
    "    comb_dl.download()\n",
    "\n",
    "if not comb_itag in globals() and audio_itag in globals() and video_itag in globals():\n",
    "    custom_itag =int(input((\"Please input itag of desired stream: \")))\n",
    "    custom_dl = yt.streams.get_by_itag(custom_itag)\n",
    "    custom_dl.download()"
   ]
  }
 ],
 "metadata": {
  "kernelspec": {
   "display_name": "Python 3",
   "language": "python",
   "name": "python3"
  },
  "language_info": {
   "codemirror_mode": {
    "name": "ipython",
    "version": 3
   },
   "file_extension": ".py",
   "mimetype": "text/x-python",
   "name": "python",
   "nbconvert_exporter": "python",
   "pygments_lexer": "ipython3",
   "version": "3.8.5"
  }
 },
 "nbformat": 4,
 "nbformat_minor": 4
}
