{
 "cells": [
  {
   "cell_type": "markdown",
   "metadata": {},
   "source": [
    "# Dodgy Downloader\n"
   ]
  },
  {
   "cell_type": "code",
   "execution_count": null,
   "metadata": {},
   "outputs": [],
   "source": [
    "from pytube import YouTube\n",
    "from pandas import DataFrame"
   ]
  },
  {
   "cell_type": "code",
   "execution_count": null,
   "metadata": {},
   "outputs": [],
   "source": [
    "link = input(\"Please input the link: \")\n",
    "yt = YouTube(link)\n",
    "save_path = input(\"Please input Path to desired save location [Empty for same directory as notebook]: \")"
   ]
  },
  {
   "cell_type": "code",
   "execution_count": null,
   "metadata": {},
   "outputs": [],
   "source": [
    "#InfoCell\n",
    "print(\"Title: \",yt.title)\n",
    "print(\"Number of views: \",yt.views)\n",
    "print(\"Length of video: \",yt.length,\"seconds\")"
   ]
  },
  {
   "cell_type": "code",
   "execution_count": null,
   "metadata": {},
   "outputs": [],
   "source": [
    "#VidStreams\n",
    "vid_stream = yt.streams.filter(only_video=True)\n",
    "\n",
    "vid_stream = [str(x) for x in vid_stream if True]\n",
    "    \n",
    "vid_stream = [x.split(\" \")for x in vid_stream if True]\n",
    "youtube_dframe = DataFrame(vid_stream)\n",
    "del youtube_dframe[0]\n",
    "youtube_dframe.columns = [\"itag\",\"type\",\"res\",\"fps\",\"vcodec\",\"progressive\",\"vid/aud\"]\n",
    "youtube_dframe.pop(\"vid/aud\")\n",
    "\n",
    "\n",
    "if ('fps=\"60fps\"' in youtube_dframe[\"fps\"].tolist()) and ('fps=\"30fps\"' in youtube_dframe[\"fps\"].tolist()):\n",
    "    fps_select= input(\"Both 60 and 30 frames avail, please select one to keep: [30/60/None]\")\n",
    "    if fps_select == \"30\" or fps_select == \"60\":\n",
    "        youtube_dframe = youtube_dframe[youtube_dframe.fps.str.contains(fps_select)]\n",
    "        print(\"Stream has been filtered.\")\n",
    "    else:\n",
    "        print(\"Nothing filtered.\")\n",
    "\n",
    "\n",
    "res_list = youtube_dframe[\"res\"].tolist()\n",
    "if not all(x == res_list[0] for x in res_list):\n",
    "    res_list = set([x.translate({ord(i): None for i in 'res=\"'}) for x in res_list if True])\n",
    "    res_select = input(\"Available resolutions are: \" + str(res_list) + \" , please select desired resolution or None: \")\n",
    "    if not res_select.upper() == \"NONE\":\n",
    "        youtube_dframe = youtube_dframe[youtube_dframe.res.str.contains(res_select)]\n",
    "print(youtube_dframe)\n",
    "\n",
    "video_itag = input(\"Please input itag of desired video stream: \")\n",
    "\n",
    "desired_vid = yt.streams.get_by_itag(video_itag)\n",
    "desired_vid.download(save_path)"
   ]
  },
  {
   "cell_type": "code",
   "execution_count": null,
   "metadata": {},
   "outputs": [],
   "source": [
    "#AudioStreams\n",
    "unfilt_stream_audio = yt.streams.filter(only_audio=True)\n",
    "filt_stream_audio = unfilt_stream_audio\n",
    "\n",
    "filt_stream_audio = [str(x) for x in filt_stream_audio]\n",
    "filt_stream_audio = [x.split(\" \") for x in filt_stream_audio]\n",
    "\n",
    "youtube_dframe_audio = DataFrame(filt_stream_audio)\n",
    "\n",
    "del youtube_dframe_audio[0]\n",
    "del youtube_dframe_audio[2]\n",
    "del youtube_dframe_audio[5]\n",
    "del youtube_dframe_audio[6]\n",
    "print(youtube_dframe_audio)\n",
    "\n",
    "audio_itag = input(\"Please input itag of desired audio stream: \")\n",
    "\n",
    "desired_aud = yt.streams.get_by_itag(audio_itag)\n",
    "desired_aud.download(save_path)"
   ]
  },
  {
   "cell_type": "code",
   "execution_count": null,
   "metadata": {},
   "outputs": [],
   "source": [
    "#Combined Download\n",
    "unfilt_stream = str(yt.streams.filter(progressive=True))\n",
    "filt_stream = unfilt_stream.split(\">, <\")\n",
    "for x in range(0,len(filt_stream)):\n",
    "    filt_stream[x] = filt_stream[x].replace(\"<\",\"\")\n",
    "for x in range(0,len(filt_stream)):\n",
    "    print(filt_stream[x] + \"\\n\")\n",
    "    \n",
    "comb_itag = input(\"Please input itag of desired video: \")\n",
    "\n",
    "comb_dl = yt.streams.get_by_itag(comb_itag)\n",
    "comb_dl.download(save_path)"
   ]
  }
 ],
 "metadata": {
  "kernelspec": {
   "display_name": "Python 3",
   "language": "python",
   "name": "python3"
  },
  "language_info": {
   "codemirror_mode": {
    "name": "ipython",
    "version": 3
   },
   "file_extension": ".py",
   "mimetype": "text/x-python",
   "name": "python",
   "nbconvert_exporter": "python",
   "pygments_lexer": "ipython3",
   "version": "3.8.5"
  }
 },
 "nbformat": 4,
 "nbformat_minor": 4
}
