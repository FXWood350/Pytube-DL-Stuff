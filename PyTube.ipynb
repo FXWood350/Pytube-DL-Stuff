{
 "cells": [
  {
   "cell_type": "markdown",
   "metadata": {},
   "source": [
    "# Dodgy Downloader\n"
   ]
  },
  {
   "cell_type": "code",
   "execution_count": 10,
   "metadata": {},
   "outputs": [],
   "source": [
    "from pytube import YouTube\n",
    "from pandas import DataFrame\n",
    "def dict_function(keyFunction, values):\n",
    "    return dict((keyFunction(v), v) for v in values)"
   ]
  },
  {
   "cell_type": "code",
   "execution_count": 11,
   "metadata": {},
   "outputs": [
    {
     "name": "stdin",
     "output_type": "stream",
     "text": [
      "Please input the link:  https://youtu.be/O7hgjuFfn3A\n"
     ]
    }
   ],
   "source": [
    "\n",
    "link = input(\"Please input the link: \")\n",
    "yt = YouTube(link)"
   ]
  },
  {
   "cell_type": "code",
   "execution_count": 12,
   "metadata": {},
   "outputs": [
    {
     "name": "stdout",
     "output_type": "stream",
     "text": [
      "Title:  Astartes Project by Syama Pedersen - Full Edit - All Parts\n",
      "Number of views:  5706902\n",
      "Length of video:  785 seconds\n"
     ]
    }
   ],
   "source": [
    "#InfoCell\n",
    "print(\"Title: \",yt.title)\n",
    "\n",
    "print(\"Number of views: \",yt.views)\n",
    "\n",
    "print(\"Length of video: \",yt.length,\"seconds\")\n",
    "\n"
   ]
  },
  {
   "cell_type": "code",
   "execution_count": 13,
   "metadata": {},
   "outputs": [
    {
     "name": "stdout",
     "output_type": "stream",
     "text": [
      "          itag                    type          res          fps  \\\n",
      "0   itag=\"308\"  mime_type=\"video/webm\"  res=\"1440p\"  fps=\"60fps\"   \n",
      "1   itag=\"400\"   mime_type=\"video/mp4\"  res=\"1440p\"  fps=\"60fps\"   \n",
      "2   itag=\"299\"   mime_type=\"video/mp4\"  res=\"1080p\"  fps=\"60fps\"   \n",
      "3   itag=\"303\"  mime_type=\"video/webm\"  res=\"1080p\"  fps=\"60fps\"   \n",
      "4   itag=\"399\"   mime_type=\"video/mp4\"  res=\"1080p\"  fps=\"60fps\"   \n",
      "5   itag=\"136\"   mime_type=\"video/mp4\"   res=\"720p\"  fps=\"30fps\"   \n",
      "6   itag=\"247\"  mime_type=\"video/webm\"   res=\"720p\"  fps=\"30fps\"   \n",
      "7   itag=\"298\"   mime_type=\"video/mp4\"   res=\"720p\"  fps=\"60fps\"   \n",
      "8   itag=\"302\"  mime_type=\"video/webm\"   res=\"720p\"  fps=\"60fps\"   \n",
      "9   itag=\"398\"   mime_type=\"video/mp4\"   res=\"720p\"  fps=\"60fps\"   \n",
      "10  itag=\"135\"   mime_type=\"video/mp4\"   res=\"480p\"  fps=\"30fps\"   \n",
      "11  itag=\"244\"  mime_type=\"video/webm\"   res=\"480p\"  fps=\"30fps\"   \n",
      "12  itag=\"397\"   mime_type=\"video/mp4\"   res=\"480p\"  fps=\"30fps\"   \n",
      "13  itag=\"134\"   mime_type=\"video/mp4\"   res=\"360p\"  fps=\"30fps\"   \n",
      "14  itag=\"243\"  mime_type=\"video/webm\"   res=\"360p\"  fps=\"30fps\"   \n",
      "15  itag=\"396\"   mime_type=\"video/mp4\"   res=\"360p\"  fps=\"30fps\"   \n",
      "16  itag=\"133\"   mime_type=\"video/mp4\"   res=\"240p\"  fps=\"30fps\"   \n",
      "17  itag=\"242\"  mime_type=\"video/webm\"   res=\"240p\"  fps=\"30fps\"   \n",
      "18  itag=\"395\"   mime_type=\"video/mp4\"   res=\"240p\"  fps=\"30fps\"   \n",
      "19  itag=\"160\"   mime_type=\"video/mp4\"   res=\"144p\"  fps=\"30fps\"   \n",
      "20  itag=\"278\"  mime_type=\"video/webm\"   res=\"144p\"  fps=\"30fps\"   \n",
      "21  itag=\"394\"   mime_type=\"video/mp4\"   res=\"144p\"  fps=\"30fps\"   \n",
      "\n",
      "                    vcodec          progressive        vid/aud  \n",
      "0             vcodec=\"vp9\"  progressive=\"False\"  type=\"video\">  \n",
      "1   vcodec=\"av01.0.12M.08\"  progressive=\"False\"  type=\"video\">  \n",
      "2     vcodec=\"avc1.64002a\"  progressive=\"False\"  type=\"video\">  \n",
      "3             vcodec=\"vp9\"  progressive=\"False\"  type=\"video\">  \n",
      "4   vcodec=\"av01.0.09M.08\"  progressive=\"False\"  type=\"video\">  \n",
      "5     vcodec=\"avc1.4d401f\"  progressive=\"False\"  type=\"video\">  \n",
      "6             vcodec=\"vp9\"  progressive=\"False\"  type=\"video\">  \n",
      "7     vcodec=\"avc1.4d4020\"  progressive=\"False\"  type=\"video\">  \n",
      "8             vcodec=\"vp9\"  progressive=\"False\"  type=\"video\">  \n",
      "9   vcodec=\"av01.0.08M.08\"  progressive=\"False\"  type=\"video\">  \n",
      "10    vcodec=\"avc1.4d401f\"  progressive=\"False\"  type=\"video\">  \n",
      "11            vcodec=\"vp9\"  progressive=\"False\"  type=\"video\">  \n",
      "12  vcodec=\"av01.0.04M.08\"  progressive=\"False\"  type=\"video\">  \n",
      "13    vcodec=\"avc1.4d401e\"  progressive=\"False\"  type=\"video\">  \n",
      "14            vcodec=\"vp9\"  progressive=\"False\"  type=\"video\">  \n",
      "15  vcodec=\"av01.0.01M.08\"  progressive=\"False\"  type=\"video\">  \n",
      "16    vcodec=\"avc1.4d4015\"  progressive=\"False\"  type=\"video\">  \n",
      "17            vcodec=\"vp9\"  progressive=\"False\"  type=\"video\">  \n",
      "18  vcodec=\"av01.0.00M.08\"  progressive=\"False\"  type=\"video\">  \n",
      "19    vcodec=\"avc1.4d400c\"  progressive=\"False\"  type=\"video\">  \n",
      "20            vcodec=\"vp9\"  progressive=\"False\"  type=\"video\">  \n",
      "21  vcodec=\"av01.0.00M.08\"  progressive=\"False\"  type=\"video\">  \n"
     ]
    }
   ],
   "source": [
    "#VidStreams\n",
    "vid_stream = yt.streams.filter(only_video=True)\n",
    "#filt_stream = yt.streams.filter(adaptive=True,only_video=True)\n",
    "#filt_stream = unfilt_stream.split(\">, <\")\n",
    "\n",
    "#filt_stream = [x.replace(\"<\",\"\") for x in filt_stream]\n",
    "#filt_stream = [x.replace(\"Stream: \",\"\") for x in filt_stream]\n",
    "#filt_stream = [x.translate({ord(i): None for i in 'Stream: <'}) for x in filt_stream]\n",
    "#filt_stream = [x.translate({ord(i): None for i in 'i[tag=\"<>'}) for x in filt_stream]\n",
    "#filt_stream = [x for x in unfilt_stream if not(\"144p\" in x)]\n",
    "vid_stream = [str(x) for x in vid_stream if True]\n",
    "\n",
    "for x in range(0,len(vid_stream)):\n",
    "#    filt_stream[x] = filt_stream[x].replace(\"<\",\"\")\n",
    " #   filt_stream[x] = filt_stream[x].translate({ord(i): None for i in '[itag\"='})\n",
    "    \n",
    "    vid_stream[x] = vid_stream[x].split(\" \")\n",
    "\n",
    "\n",
    "#for x in range(0,len(filt_stream)):\n",
    "    #filt_stream[x][0] = filt_stream[x][0].translate({ord(i): None for i in 'i[tag=\"'})\n",
    "#    filt_stream[x][0] = filt_stream[x][0].strip(\" \")\n",
    "#    filt_stream[x][0] = int(filt_stream[x][0])\n",
    "    \n",
    "\n",
    "#for x in range(0,len(filt_stream)):\n",
    " #   for y in range(0,len(filt_stream[x])):\n",
    "  #      print(filt_stream[x][y] + \"\\n\")\n",
    "        \n",
    "#processed_dict = dict_function(lambda a: a[0], filt_stream)\n",
    "#print(processed_dict)\n",
    "\n",
    "youtube_dframe = DataFrame(vid_stream)\n",
    "del youtube_dframe[0]\n",
    "youtube_dframe.columns = [\"itag\",\"type\",\"res\",\"fps\",\"vcodec\",\"progressive\",\"vid/aud\"]\n",
    "\n",
    "print(youtube_dframe)"
   ]
  },
  {
   "cell_type": "code",
   "execution_count": 15,
   "metadata": {},
   "outputs": [
    {
     "name": "stdout",
     "output_type": "stream",
     "text": [
      "            1                       2              3                   4  \\\n",
      "0  itag=\"140\"   mime_type=\"audio/mp4\"  abr=\"128kbps\"  acodec=\"mp4a.40.2\"   \n",
      "1  itag=\"249\"  mime_type=\"audio/webm\"   abr=\"50kbps\"       acodec=\"opus\"   \n",
      "2  itag=\"250\"  mime_type=\"audio/webm\"   abr=\"70kbps\"       acodec=\"opus\"   \n",
      "3  itag=\"251\"  mime_type=\"audio/webm\"  abr=\"160kbps\"       acodec=\"opus\"   \n",
      "\n",
      "                     5              6  \n",
      "0  progressive=\"False\"  type=\"audio\">  \n",
      "1  progressive=\"False\"  type=\"audio\">  \n",
      "2  progressive=\"False\"  type=\"audio\">  \n",
      "3  progressive=\"False\"  type=\"audio\">  \n"
     ]
    }
   ],
   "source": [
    "#AudioStreams\n",
    "unfilt_stream_audio = yt.streams.filter(only_audio=True)\n",
    "filt_stream_audio = unfilt_stream_audio\n",
    "\n",
    "filt_stream_audio = [str(x) for x in filt_stream_audio]\n",
    "filt_stream_audio = [x.split(\" \") for x in filt_stream_audio]\n",
    "\n",
    "youtube_dframe_audio = DataFrame(filt_stream_audio)\n",
    "del youtube_dframe_audio[0]\n",
    "print(youtube_dframe_audio)"
   ]
  },
  {
   "cell_type": "code",
   "execution_count": null,
   "metadata": {},
   "outputs": [],
   "source": [
    "#Combined Download\n",
    "unfilt_stream = str(yt.streams.filter(progressive=True))\n",
    "filt_stream = unfilt_stream.split(\">, <\")\n",
    "for x in range(0,len(filt_stream)):\n",
    "    filt_stream[x] = filt_stream[x].replace(\"<\",\"\")\n",
    "for x in range(0,len(filt_stream)):\n",
    "    print(filt_stream[x] + \"\\n\")"
   ]
  },
  {
   "cell_type": "code",
   "execution_count": 16,
   "metadata": {},
   "outputs": [
    {
     "name": "stdin",
     "output_type": "stream",
     "text": [
      "Please input desired stream itag 251\n"
     ]
    },
    {
     "data": {
      "text/plain": [
       "'/home/dawood/Documents/Misc/Astartes Project by Syama Pedersen - Full Edit - All Parts.webm'"
      ]
     },
     "execution_count": 16,
     "metadata": {},
     "output_type": "execute_result"
    }
   ],
   "source": [
    "num_tag = int(input(\"Please input desired stream itag\"))\n",
    "desired_vid = yt.streams.get_by_itag(num_tag)\n",
    "desired_vid.download()"
   ]
  },
  {
   "cell_type": "code",
   "execution_count": null,
   "metadata": {},
   "outputs": [],
   "source": []
  }
 ],
 "metadata": {
  "kernelspec": {
   "display_name": "Python 3",
   "language": "python",
   "name": "python3"
  },
  "language_info": {
   "codemirror_mode": {
    "name": "ipython",
    "version": 3
   },
   "file_extension": ".py",
   "mimetype": "text/x-python",
   "name": "python",
   "nbconvert_exporter": "python",
   "pygments_lexer": "ipython3",
   "version": "3.8.5"
  }
 },
 "nbformat": 4,
 "nbformat_minor": 4
}
